{
 "cells": [
  {
   "cell_type": "markdown",
   "metadata": {},
   "source": [
    "## Dataset"
   ]
  },
  {
   "cell_type": "code",
   "execution_count": 110,
   "metadata": {},
   "outputs": [],
   "source": [
    "from tqdm import tqdm\n",
    "from os import listdir\n",
    "from os.path import isfile, join\n",
    "import pandas as pd\n",
    "from nltk.tokenize import sent_tokenize, word_tokenize\n",
    "from nltk.stem import PorterStemmer, WordNetLemmatizer\n",
    "from nltk.corpus import stopwords\n",
    "import re, string\n",
    "from pathlib import Path\n",
    "import json"
   ]
  },
  {
   "cell_type": "code",
   "execution_count": 111,
   "metadata": {},
   "outputs": [],
   "source": [
    "def preprocess_text(text: str, lowercase=True, stopword_removal=True, stopwords_domain=[], min_length=2,  punctuation_removal=True,\n",
    "                    does_stem=False, does_lemm=False):\n",
    "    if text is None:\n",
    "        return \"\"\n",
    "    if lowercase:\n",
    "        text = text.lower()\n",
    "        return text\n",
    "    if punctuation_removal:\n",
    "        text = text.translate(str.maketrans('', '', string.punctuation))\n",
    "    tokens = word_tokenize(text)\n",
    "    if stopword_removal:\n",
    "        stop_words = set(stopwords.words('english') + stopwords_domain)\n",
    "        tokens = [word for word in tokens if word not in stop_words]\n",
    "    if does_stem:\n",
    "        stemmer = PorterStemmer()\n",
    "        tokens = [stemmer.stem(word) for word in tokens]\n",
    "    if does_lemm:\n",
    "        lemmatizer = WordNetLemmatizer()\n",
    "        tokens = [lemmatizer.lemmatize(word) for word in tokens]\n",
    "    tokens = [word for word in tokens if len(word) >= min_length]\n",
    "\n",
    "    return \" \".join(tokens)\n"
   ]
  },
  {
   "cell_type": "code",
   "execution_count": 112,
   "metadata": {},
   "outputs": [
    {
     "name": "stdout",
     "output_type": "stream",
     "text": [
      "303\n"
     ]
    }
   ],
   "source": [
    "path = \"Dataset/n2c2/part2/\"\n",
    "files = [Path(f).stem for f in listdir(path=path) if isfile(join(path, f))]\n",
    "files = list(set(files))\n",
    "print(len(files))"
   ]
  },
  {
   "cell_type": "code",
   "execution_count": 113,
   "metadata": {},
   "outputs": [],
   "source": [
    "def extract_text(txt_file):\n",
    "    with open(txt_file, 'r') as f:\n",
    "        text = f.read()\n",
    "        return text\n",
    "\n",
    "pattern = r'^(T\\d+)\\s+(\\w+)\\s+(\\d+)\\s+(\\d+)\\s+(.*)$'\n",
    "def extract_ann(ann_file):\n",
    "    with open(ann_file, 'r') as f:\n",
    "        lines = f.readlines()\n",
    "        all_anns = []\n",
    "        for line in lines:\n",
    "            match = re.match(pattern, line)\n",
    "            if match:\n",
    "                entry = {}\n",
    "                entry['entity_id'] = match.group(1)\n",
    "                entry['entity_type'] = match.group(2)\n",
    "                entry['start_span'] = int(match.group(3))\n",
    "                entry['end_span'] = int(match.group(4))\n",
    "                entry['name_or_dosage'] = match.group(5)\n",
    "                all_anns.append(entry)\n",
    "        return all_anns\n"
   ]
  },
  {
   "cell_type": "code",
   "execution_count": 115,
   "metadata": {},
   "outputs": [
    {
     "name": "stderr",
     "output_type": "stream",
     "text": [
      "Extracting and Cleaning Dataset: 100%|██████████| 303/303 [00:00<00:00, 2328.25it/s]\n"
     ]
    }
   ],
   "source": [
    "### now extracting data \n",
    "dataset = []\n",
    "\n",
    "for file in tqdm(files, desc=\"Extracting and Cleaning Dataset\"):\n",
    "    data = {}\n",
    "    txt = extract_text(path + file + \".txt\")\n",
    "    #TODO doing the desired preprocessing on txt\n",
    "    txt = preprocess_text(text=txt, lowercase=True, stopword_removal=False, min_length=2,\n",
    "                           punctuation_removal=False, does_stem=False, does_lemm=False)\n",
    "    data['text'] = txt\n",
    "    anns = extract_ann(path + file + \".ann\")\n",
    "    #TODO doing the desired preprocessing on anns\n",
    "    for ann in anns:\n",
    "        ann['name_or_dosage'] = preprocess_text(text=ann['name_or_dosage'], lowercase=True, min_length=1, punctuation_removal=False, stopword_removal=False)\n",
    "\n",
    "    data['anns'] = anns\n",
    "    \n",
    "    dataset.append(data)\n"
   ]
  },
  {
   "cell_type": "code",
   "execution_count": 116,
   "metadata": {},
   "outputs": [
    {
     "name": "stdout",
     "output_type": "stream",
     "text": [
      "303\n"
     ]
    }
   ],
   "source": [
    "print(len(dataset))\n",
    "df = pd.DataFrame(dataset)"
   ]
  },
  {
   "cell_type": "code",
   "execution_count": 117,
   "metadata": {},
   "outputs": [
    {
     "data": {
      "text/html": [
       "<div>\n",
       "<style scoped>\n",
       "    .dataframe tbody tr th:only-of-type {\n",
       "        vertical-align: middle;\n",
       "    }\n",
       "\n",
       "    .dataframe tbody tr th {\n",
       "        vertical-align: top;\n",
       "    }\n",
       "\n",
       "    .dataframe thead th {\n",
       "        text-align: right;\n",
       "    }\n",
       "</style>\n",
       "<table border=\"1\" class=\"dataframe\">\n",
       "  <thead>\n",
       "    <tr style=\"text-align: right;\">\n",
       "      <th></th>\n",
       "      <th>text</th>\n",
       "      <th>anns</th>\n",
       "    </tr>\n",
       "  </thead>\n",
       "  <tbody>\n",
       "    <tr>\n",
       "      <th>0</th>\n",
       "      <td>admission date:  [**2200-5-18**]              ...</td>\n",
       "      <td>[{'entity_id': 'T1', 'entity_type': 'Drug', 's...</td>\n",
       "    </tr>\n",
       "    <tr>\n",
       "      <th>1</th>\n",
       "      <td>admission date:  [**2147-10-12**]             ...</td>\n",
       "      <td>[{'entity_id': 'T3', 'entity_type': 'Drug', 's...</td>\n",
       "    </tr>\n",
       "    <tr>\n",
       "      <th>2</th>\n",
       "      <td>admission date:  [**2170-10-5**]              ...</td>\n",
       "      <td>[{'entity_id': 'T1', 'entity_type': 'Reason', ...</td>\n",
       "    </tr>\n",
       "    <tr>\n",
       "      <th>3</th>\n",
       "      <td>admission date:  [**2136-7-18**]              ...</td>\n",
       "      <td>[{'entity_id': 'T1', 'entity_type': 'Drug', 's...</td>\n",
       "    </tr>\n",
       "    <tr>\n",
       "      <th>4</th>\n",
       "      <td>admission date:  [**2199-5-1**]              d...</td>\n",
       "      <td>[{'entity_id': 'T1', 'entity_type': 'Drug', 's...</td>\n",
       "    </tr>\n",
       "  </tbody>\n",
       "</table>\n",
       "</div>"
      ],
      "text/plain": [
       "                                                text  \\\n",
       "0  admission date:  [**2200-5-18**]              ...   \n",
       "1  admission date:  [**2147-10-12**]             ...   \n",
       "2  admission date:  [**2170-10-5**]              ...   \n",
       "3  admission date:  [**2136-7-18**]              ...   \n",
       "4  admission date:  [**2199-5-1**]              d...   \n",
       "\n",
       "                                                anns  \n",
       "0  [{'entity_id': 'T1', 'entity_type': 'Drug', 's...  \n",
       "1  [{'entity_id': 'T3', 'entity_type': 'Drug', 's...  \n",
       "2  [{'entity_id': 'T1', 'entity_type': 'Reason', ...  \n",
       "3  [{'entity_id': 'T1', 'entity_type': 'Drug', 's...  \n",
       "4  [{'entity_id': 'T1', 'entity_type': 'Drug', 's...  "
      ]
     },
     "execution_count": 117,
     "metadata": {},
     "output_type": "execute_result"
    }
   ],
   "source": [
    "df.head()"
   ]
  },
  {
   "cell_type": "code",
   "execution_count": 118,
   "metadata": {},
   "outputs": [
    {
     "name": "stdout",
     "output_type": "stream",
     "text": [
      "Dataset saved\n"
     ]
    }
   ],
   "source": [
    "df.to_csv(\"Dataset/preprocessed/part2.csv\", index=False)\n",
    "\n",
    "output_json = \"Dataset/preprocessed/part2.json\"\n",
    "with open(output_json, 'w') as f:\n",
    "    json.dump(dataset, f, indent=4)\n",
    "\n",
    "print(\"Dataset saved\")"
   ]
  },
  {
   "cell_type": "code",
   "execution_count": 119,
   "metadata": {},
   "outputs": [],
   "source": [
    "df = pd.read_csv(\"Dataset/preprocessed/part2.csv\")"
   ]
  },
  {
   "cell_type": "code",
   "execution_count": 120,
   "metadata": {},
   "outputs": [
    {
     "data": {
      "text/html": [
       "<div>\n",
       "<style scoped>\n",
       "    .dataframe tbody tr th:only-of-type {\n",
       "        vertical-align: middle;\n",
       "    }\n",
       "\n",
       "    .dataframe tbody tr th {\n",
       "        vertical-align: top;\n",
       "    }\n",
       "\n",
       "    .dataframe thead th {\n",
       "        text-align: right;\n",
       "    }\n",
       "</style>\n",
       "<table border=\"1\" class=\"dataframe\">\n",
       "  <thead>\n",
       "    <tr style=\"text-align: right;\">\n",
       "      <th></th>\n",
       "      <th>text</th>\n",
       "      <th>anns</th>\n",
       "    </tr>\n",
       "  </thead>\n",
       "  <tbody>\n",
       "    <tr>\n",
       "      <th>0</th>\n",
       "      <td>admission date:  [**2200-5-18**]              ...</td>\n",
       "      <td>[{'entity_id': 'T1', 'entity_type': 'Drug', 's...</td>\n",
       "    </tr>\n",
       "    <tr>\n",
       "      <th>1</th>\n",
       "      <td>admission date:  [**2147-10-12**]             ...</td>\n",
       "      <td>[{'entity_id': 'T3', 'entity_type': 'Drug', 's...</td>\n",
       "    </tr>\n",
       "    <tr>\n",
       "      <th>2</th>\n",
       "      <td>admission date:  [**2170-10-5**]              ...</td>\n",
       "      <td>[{'entity_id': 'T1', 'entity_type': 'Reason', ...</td>\n",
       "    </tr>\n",
       "    <tr>\n",
       "      <th>3</th>\n",
       "      <td>admission date:  [**2136-7-18**]              ...</td>\n",
       "      <td>[{'entity_id': 'T1', 'entity_type': 'Drug', 's...</td>\n",
       "    </tr>\n",
       "    <tr>\n",
       "      <th>4</th>\n",
       "      <td>admission date:  [**2199-5-1**]              d...</td>\n",
       "      <td>[{'entity_id': 'T1', 'entity_type': 'Drug', 's...</td>\n",
       "    </tr>\n",
       "  </tbody>\n",
       "</table>\n",
       "</div>"
      ],
      "text/plain": [
       "                                                text  \\\n",
       "0  admission date:  [**2200-5-18**]              ...   \n",
       "1  admission date:  [**2147-10-12**]             ...   \n",
       "2  admission date:  [**2170-10-5**]              ...   \n",
       "3  admission date:  [**2136-7-18**]              ...   \n",
       "4  admission date:  [**2199-5-1**]              d...   \n",
       "\n",
       "                                                anns  \n",
       "0  [{'entity_id': 'T1', 'entity_type': 'Drug', 's...  \n",
       "1  [{'entity_id': 'T3', 'entity_type': 'Drug', 's...  \n",
       "2  [{'entity_id': 'T1', 'entity_type': 'Reason', ...  \n",
       "3  [{'entity_id': 'T1', 'entity_type': 'Drug', 's...  \n",
       "4  [{'entity_id': 'T1', 'entity_type': 'Drug', 's...  "
      ]
     },
     "execution_count": 120,
     "metadata": {},
     "output_type": "execute_result"
    }
   ],
   "source": [
    "df.head()"
   ]
  },
  {
   "cell_type": "code",
   "execution_count": 128,
   "metadata": {},
   "outputs": [
    {
     "name": "stdout",
     "output_type": "stream",
     "text": [
      "entity_id -->> T1\n",
      "entity_type -->> Drug\n",
      "start_span -->> 1794\n",
      "end_span -->> 1802\n",
      "name_or_dosage -->> percocet\n"
     ]
    }
   ],
   "source": [
    "r = list(eval(df[\"anns\"].iloc[0]))\n",
    "for k in r[0]:\n",
    "    print(k, \"-->>\", r[0][k])"
   ]
  },
  {
   "cell_type": "code",
   "execution_count": 129,
   "metadata": {},
   "outputs": [
    {
     "name": "stdout",
     "output_type": "stream",
     "text": [
      "[{'entity_id': 'T1', 'entity_type': 'Drug', 'start_span': 1794, 'end_span': 1802, 'name_or_dosage': 'percocet'}, {'entity_id': 'T3', 'entity_type': 'Strength', 'start_span': 8213, 'end_span': 8218, 'name_or_dosage': '10 mg'}, {'entity_id': 'T4', 'entity_type': 'Form', 'start_span': 8239, 'end_span': 8245, 'name_or_dosage': 'tablet'}, {'entity_id': 'T6', 'entity_type': 'Route', 'start_span': 8246, 'end_span': 8248, 'name_or_dosage': 'po'}, {'entity_id': 'T8', 'entity_type': 'Drug', 'start_span': 6615, 'end_span': 6623, 'name_or_dosage': 'percocet'}, {'entity_id': 'T10', 'entity_type': 'Form', 'start_span': 6822, 'end_span': 6828, 'name_or_dosage': 'liquid'}, {'entity_id': 'T11', 'entity_type': 'Dosage', 'start_span': 6834, 'end_span': 6842, 'name_or_dosage': '5-10 mls'}, {'entity_id': 'T13', 'entity_type': 'Route', 'start_span': 6843, 'end_span': 6845, 'name_or_dosage': 'po'}, {'entity_id': 'T16', 'entity_type': 'Strength', 'start_span': 7971, 'end_span': 7977, 'name_or_dosage': '100 mg'}, {'entity_id': 'T17', 'entity_type': 'Form', 'start_span': 7999, 'end_span': 8006, 'name_or_dosage': 'capsule'}, {'entity_id': 'T18', 'entity_type': 'Route', 'start_span': 8007, 'end_span': 8009, 'name_or_dosage': 'po'}, {'entity_id': 'T19', 'entity_type': 'Drug', 'start_span': 6676, 'end_span': 6694, 'name_or_dosage': 'montelukast sodium'}, {'entity_id': 'T20', 'entity_type': 'Strength', 'start_span': 6695, 'end_span': 6700, 'name_or_dosage': '10 mg'}, {'entity_id': 'T21', 'entity_type': 'Form', 'start_span': 6721, 'end_span': 6727, 'name_or_dosage': 'tablet'}, {'entity_id': 'T22', 'entity_type': 'Route', 'start_span': 6728, 'end_span': 6730, 'name_or_dosage': 'po'}, {'entity_id': 'T23', 'entity_type': 'Drug', 'start_span': 9241, 'end_span': 9249, 'name_or_dosage': 'percocet'}, {'entity_id': 'T24', 'entity_type': 'Form', 'start_span': 9275, 'end_span': 9282, 'name_or_dosage': 'tablets'}, {'entity_id': 'T25', 'entity_type': 'Dosage', 'start_span': 9271, 'end_span': 9274, 'name_or_dosage': '1-2'}, {'entity_id': 'T26', 'entity_type': 'Route', 'start_span': 9283, 'end_span': 9285, 'name_or_dosage': 'po'}, {'entity_id': 'T27', 'entity_type': 'Drug', 'start_span': 4256, 'end_span': 4267, 'name_or_dosage': 'ceftriaxone'}, {'entity_id': 'T29', 'entity_type': 'Drug', 'start_span': 7085, 'end_span': 7095, 'name_or_dosage': 'folic acid'}, {'entity_id': 'T30', 'entity_type': 'Strength', 'start_span': 7096, 'end_span': 7100, 'name_or_dosage': '1 mg'}, {'entity_id': 'T31', 'entity_type': 'Form', 'start_span': 7121, 'end_span': 7127, 'name_or_dosage': 'tablet'}, {'entity_id': 'T32', 'entity_type': 'Route', 'start_span': 7128, 'end_span': 7130, 'name_or_dosage': 'po'}, {'entity_id': 'T33', 'entity_type': 'Drug', 'start_span': 1203, 'end_span': 1209, 'name_or_dosage': 'heliox'}, {'entity_id': 'T34', 'entity_type': 'Drug', 'start_span': 6580, 'end_span': 6589, 'name_or_dosage': 'singulair'}, {'entity_id': 'T35', 'entity_type': 'Drug', 'start_span': 1719, 'end_span': 1728, 'name_or_dosage': 'albuterol'}, {'entity_id': 'T37', 'entity_type': 'Strength', 'start_span': 6981, 'end_span': 6987, 'name_or_dosage': '100 mg'}, {'entity_id': 'T38', 'entity_type': 'Form', 'start_span': 7008, 'end_span': 7014, 'name_or_dosage': 'tablet'}, {'entity_id': 'T39', 'entity_type': 'Route', 'start_span': 7015, 'end_span': 7017, 'name_or_dosage': 'po'}, {'entity_id': 'T40', 'entity_type': 'Drug', 'start_span': 1338, 'end_span': 1349, 'name_or_dosage': 'ceftriaxone'}, {'entity_id': 'T41', 'entity_type': 'Reason', 'start_span': 1321, 'end_span': 1324, 'name_or_dosage': 'cap'}, {'entity_id': 'T42', 'entity_type': 'Drug', 'start_span': 6590, 'end_span': 6596, 'name_or_dosage': 'advair'}, {'entity_id': 'T43', 'entity_type': 'Drug', 'start_span': 9656, 'end_span': 9675, 'name_or_dosage': 'hydrochlorothiazide'}, {'entity_id': 'T44', 'entity_type': 'Drug', 'start_span': 6597, 'end_span': 6604, 'name_or_dosage': 'flovent'}, {'entity_id': 'T45', 'entity_type': 'Drug', 'start_span': 1354, 'end_span': 1366, 'name_or_dosage': 'azithromycin'}, {'entity_id': 'T47', 'entity_type': 'Strength', 'start_span': 7776, 'end_span': 7781, 'name_or_dosage': '40 mg'}, {'entity_id': 'T49', 'entity_type': 'Drug', 'start_span': 6605, 'end_span': 6614, 'name_or_dosage': 'albuterol'}, {'entity_id': 'T50', 'entity_type': 'Drug', 'start_span': 594, 'end_span': 604, 'name_or_dosage': 'prednisone'}, {'entity_id': 'T51', 'entity_type': 'Drug', 'start_span': 7635, 'end_span': 7646, 'name_or_dosage': 'benzonatate'}, {'entity_id': 'T52', 'entity_type': 'Strength', 'start_span': 7647, 'end_span': 7653, 'name_or_dosage': '100 mg'}, {'entity_id': 'T53', 'entity_type': 'Form', 'start_span': 7675, 'end_span': 7682, 'name_or_dosage': 'capsule'}, {'entity_id': 'T54', 'entity_type': 'Route', 'start_span': 7683, 'end_span': 7685, 'name_or_dosage': 'po'}, {'entity_id': 'T55', 'entity_type': 'Drug', 'start_span': 983, 'end_span': 993, 'name_or_dosage': 'prednisone'}, {'entity_id': 'T56', 'entity_type': 'Strength', 'start_span': 994, 'end_span': 999, 'name_or_dosage': '40 mg'}, {'entity_id': 'T57', 'entity_type': 'Drug', 'start_span': 1978, 'end_span': 1987, 'name_or_dosage': 'linezolid'}, {'entity_id': 'T58', 'entity_type': 'Drug', 'start_span': 4227, 'end_span': 4233, 'name_or_dosage': 'heliox'}, {'entity_id': 'T59', 'entity_type': 'Drug', 'start_span': 6631, 'end_span': 6641, 'name_or_dosage': 'prednisone'}, {'entity_id': 'T60', 'entity_type': 'Drug', 'start_span': 7198, 'end_span': 7217, 'name_or_dosage': 'hydrochlorothiazide'}, {'entity_id': 'T61', 'entity_type': 'Strength', 'start_span': 7218, 'end_span': 7223, 'name_or_dosage': '25 mg'}, {'entity_id': 'T62', 'entity_type': 'Form', 'start_span': 7244, 'end_span': 7250, 'name_or_dosage': 'tablet'}, {'entity_id': 'T63', 'entity_type': 'Route', 'start_span': 7251, 'end_span': 7253, 'name_or_dosage': 'po'}, {'entity_id': 'T64', 'entity_type': 'Drug', 'start_span': 809, 'end_span': 818, 'name_or_dosage': 'albuterol'}, {'entity_id': 'T65', 'entity_type': 'Drug', 'start_span': 4208, 'end_span': 4214, 'name_or_dosage': 'advair'}, {'entity_id': 'T66', 'entity_type': 'Drug', 'start_span': 8309, 'end_span': 8319, 'name_or_dosage': 'prednisone'}, {'entity_id': 'T67', 'entity_type': 'Strength', 'start_span': 8320, 'end_span': 8325, 'name_or_dosage': '10 mg'}, {'entity_id': 'T68', 'entity_type': 'Form', 'start_span': 8346, 'end_span': 8352, 'name_or_dosage': 'tablet'}, {'entity_id': 'T70', 'entity_type': 'Route', 'start_span': 8353, 'end_span': 8355, 'name_or_dosage': 'po'}, {'entity_id': 'T71', 'entity_type': 'Drug', 'start_span': 9641, 'end_span': 9651, 'name_or_dosage': 'lisinopril'}, {'entity_id': 'T72', 'entity_type': 'Form', 'start_span': 9259, 'end_span': 9265, 'name_or_dosage': 'tablet'}, {'entity_id': 'T73', 'entity_type': 'Duration', 'start_span': 9321, 'end_span': 9331, 'name_or_dosage': 'for 5 days'}, {'entity_id': 'T74', 'entity_type': 'Drug', 'start_span': 4216, 'end_span': 4225, 'name_or_dosage': 'singulair'}, {'entity_id': 'T76', 'entity_type': 'Reason', 'start_span': 5706, 'end_span': 5722, 'name_or_dosage': 'his chronic pain'}, {'entity_id': 'T77', 'entity_type': 'Reason', 'start_span': 9316, 'end_span': 9320, 'name_or_dosage': 'pain'}, {'entity_id': 'T78', 'entity_type': 'Reason', 'start_span': 9680, 'end_span': 9699, 'name_or_dosage': 'high blood pressure'}, {'entity_id': 'T79', 'entity_type': 'Dosage', 'start_span': 605, 'end_span': 610, 'name_or_dosage': 'taper'}, {'entity_id': 'T80', 'entity_type': 'Drug', 'start_span': 819, 'end_span': 826, 'name_or_dosage': 'atroven'}, {'entity_id': 'T81', 'entity_type': 'Form', 'start_span': 1709, 'end_span': 1718, 'name_or_dosage': 'nebulized'}, {'entity_id': 'T82', 'entity_type': 'Reason', 'start_span': 1934, 'end_span': 1951, 'name_or_dosage': 'mrsa lung abscess'}, {'entity_id': 'T83', 'entity_type': 'Reason', 'start_span': 3994, 'end_span': 4013, 'name_or_dosage': 'asthma exacerbation'}, {'entity_id': 'T84', 'entity_type': 'Drug', 'start_span': 4179, 'end_span': 4189, 'name_or_dosage': 'solumedrol'}, {'entity_id': 'T85', 'entity_type': 'Drug', 'start_span': 4235, 'end_span': 4242, 'name_or_dosage': 'azithro'}, {'entity_id': 'T86', 'entity_type': 'Drug', 'start_span': 5125, 'end_span': 5134, 'name_or_dosage': 'percocets'}, {'entity_id': 'T87', 'entity_type': 'Dosage', 'start_span': 5121, 'end_span': 5124, 'name_or_dosage': 'two'}, {'entity_id': 'T88', 'entity_type': 'Frequency', 'start_span': 5135, 'end_span': 5148, 'name_or_dosage': 'every 4 hours'}, {'entity_id': 'T90', 'entity_type': 'Reason', 'start_span': 6178, 'end_span': 6190, 'name_or_dosage': 'hypertension'}, {'entity_id': 'T91', 'entity_type': 'Drug', 'start_span': 6307, 'end_span': 6311, 'name_or_dosage': 'hctz'}, {'entity_id': 'T92', 'entity_type': 'Dosage', 'start_span': 6642, 'end_span': 6647, 'name_or_dosage': 'taper'}, {'entity_id': 'T93', 'entity_type': 'Form', 'start_span': 6701, 'end_span': 6707, 'name_or_dosage': 'tablet'}, {'entity_id': 'T94', 'entity_type': 'Dosage', 'start_span': 6713, 'end_span': 6720, 'name_or_dosage': 'one (1)'}, {'entity_id': 'T96', 'entity_type': 'Drug', 'start_span': 6905, 'end_span': 6917, 'name_or_dosage': 'multivitamin'}, {'entity_id': 'T97', 'entity_type': 'Form', 'start_span': 6922, 'end_span': 6929, 'name_or_dosage': 'capsule'}, {'entity_id': 'T98', 'entity_type': 'Dosage', 'start_span': 6935, 'end_span': 6942, 'name_or_dosage': 'one (1)'}, {'entity_id': 'T99', 'entity_type': 'Form', 'start_span': 6943, 'end_span': 6946, 'name_or_dosage': 'cap'}, {'entity_id': 'T100', 'entity_type': 'Route', 'start_span': 6947, 'end_span': 6949, 'name_or_dosage': 'po'}, {'entity_id': 'T101', 'entity_type': 'Frequency', 'start_span': 6950, 'end_span': 6963, 'name_or_dosage': 'daily (daily)'}, {'entity_id': 'T102', 'entity_type': 'Form', 'start_span': 6988, 'end_span': 6994, 'name_or_dosage': 'tablet'}, {'entity_id': 'T103', 'entity_type': 'Dosage', 'start_span': 7000, 'end_span': 7007, 'name_or_dosage': 'one (1)'}, {'entity_id': 'T105', 'entity_type': 'Form', 'start_span': 7101, 'end_span': 7107, 'name_or_dosage': 'tablet'}, {'entity_id': 'T106', 'entity_type': 'Dosage', 'start_span': 7113, 'end_span': 7120, 'name_or_dosage': 'one (1)'}, {'entity_id': 'T107', 'entity_type': 'Frequency', 'start_span': 7131, 'end_span': 7144, 'name_or_dosage': 'daily (daily)'}, {'entity_id': 'T108', 'entity_type': 'Form', 'start_span': 7224, 'end_span': 7230, 'name_or_dosage': 'tablet'}, {'entity_id': 'T109', 'entity_type': 'Dosage', 'start_span': 7236, 'end_span': 7243, 'name_or_dosage': 'one (1)'}, {'entity_id': 'T111', 'entity_type': 'Drug', 'start_span': 7321, 'end_span': 7330, 'name_or_dosage': 'albuterol'}, {'entity_id': 'T112', 'entity_type': 'Strength', 'start_span': 7331, 'end_span': 7347, 'name_or_dosage': '90 mcg/actuation'}, {'entity_id': 'T113', 'entity_type': 'Form', 'start_span': 7348, 'end_span': 7355, 'name_or_dosage': 'aerosol'}, {'entity_id': 'T114', 'entity_type': 'Dosage', 'start_span': 7361, 'end_span': 7364, 'name_or_dosage': '1-2'}, {'entity_id': 'T115', 'entity_type': 'Form', 'start_span': 7365, 'end_span': 7370, 'name_or_dosage': 'puffs'}, {'entity_id': 'T116', 'entity_type': 'Route', 'start_span': 7371, 'end_span': 7381, 'name_or_dosage': 'inhalation'}, {'entity_id': 'T117', 'entity_type': 'Frequency', 'start_span': 7382, 'end_span': 7411, 'name_or_dosage': 'q2h (every 2 hours) as needed'}, {'entity_id': 'T118', 'entity_type': 'Strength', 'start_span': 7481, 'end_span': 7496, 'name_or_dosage': '250-50 mcg/dose'}, {'entity_id': 'T119', 'entity_type': 'Form', 'start_span': 7497, 'end_span': 7513, 'name_or_dosage': 'disk with device'}, {'entity_id': 'T120', 'entity_type': 'Dosage', 'start_span': 7519, 'end_span': 7526, 'name_or_dosage': 'one (1)'}, {'entity_id': 'T122', 'entity_type': 'Form', 'start_span': 7654, 'end_span': 7661, 'name_or_dosage': 'capsule'}, {'entity_id': 'T123', 'entity_type': 'Dosage', 'start_span': 7667, 'end_span': 7674, 'name_or_dosage': 'one (1)'}, {'entity_id': 'T125', 'entity_type': 'Dosage', 'start_span': 7818, 'end_span': 7825, 'name_or_dosage': 'one (1)'}, {'entity_id': 'T126', 'entity_type': 'Form', 'start_span': 7826, 'end_span': 7856, 'name_or_dosage': 'tablet, delayed release (e.c.)'}, {'entity_id': 'T127', 'entity_type': 'Route', 'start_span': 7857, 'end_span': 7859, 'name_or_dosage': 'po'}, {'entity_id': 'T129', 'entity_type': 'Form', 'start_span': 7978, 'end_span': 7985, 'name_or_dosage': 'capsule'}, {'entity_id': 'T130', 'entity_type': 'Dosage', 'start_span': 7991, 'end_span': 7998, 'name_or_dosage': 'one (1)'}, {'entity_id': 'T132', 'entity_type': 'Drug', 'start_span': 8080, 'end_span': 8085, 'name_or_dosage': 'senna'}, {'entity_id': 'T133', 'entity_type': 'Strength', 'start_span': 8086, 'end_span': 8092, 'name_or_dosage': '8.6 mg'}, {'entity_id': 'T134', 'entity_type': 'Form', 'start_span': 8093, 'end_span': 8099, 'name_or_dosage': 'tablet'}, {'entity_id': 'T135', 'entity_type': 'Dosage', 'start_span': 8105, 'end_span': 8112, 'name_or_dosage': 'one (1)'}, {'entity_id': 'T136', 'entity_type': 'Form', 'start_span': 8113, 'end_span': 8119, 'name_or_dosage': 'tablet'}, {'entity_id': 'T137', 'entity_type': 'Route', 'start_span': 8120, 'end_span': 8122, 'name_or_dosage': 'po'}, {'entity_id': 'T139', 'entity_type': 'Form', 'start_span': 8219, 'end_span': 8225, 'name_or_dosage': 'tablet'}, {'entity_id': 'T140', 'entity_type': 'Dosage', 'start_span': 8231, 'end_span': 8238, 'name_or_dosage': 'one (1)'}, {'entity_id': 'T141', 'entity_type': 'Form', 'start_span': 8326, 'end_span': 8332, 'name_or_dosage': 'tablet'}, {'entity_id': 'T142', 'entity_type': 'Dosage', 'start_span': 8338, 'end_span': 8345, 'name_or_dosage': 'six (6)'}, {'entity_id': 'T143', 'entity_type': 'Duration', 'start_span': 8368, 'end_span': 8378, 'name_or_dosage': 'for 2 days'}, {'entity_id': 'T144', 'entity_type': 'Drug', 'start_span': 8734, 'end_span': 8742, 'name_or_dosage': 'atrovent'}, {'entity_id': 'T145', 'entity_type': 'Strength', 'start_span': 8743, 'end_span': 8759, 'name_or_dosage': '18 mcg/actuation'}, {'entity_id': 'T146', 'entity_type': 'Form', 'start_span': 8760, 'end_span': 8767, 'name_or_dosage': 'aerosol'}, {'entity_id': 'T147', 'entity_type': 'Dosage', 'start_span': 8773, 'end_span': 8780, 'name_or_dosage': 'two (2)'}, {'entity_id': 'T148', 'entity_type': 'Form', 'start_span': 8781, 'end_span': 8786, 'name_or_dosage': 'puffs'}, {'entity_id': 'T149', 'entity_type': 'Route', 'start_span': 8787, 'end_span': 8797, 'name_or_dosage': 'inhalation'}, {'entity_id': 'T150', 'entity_type': 'Frequency', 'start_span': 8798, 'end_span': 8814, 'name_or_dosage': 'four times a day'}, {'entity_id': 'T151', 'entity_type': 'Drug', 'start_span': 8862, 'end_span': 8879, 'name_or_dosage': 'albuterol sulfate'}, {'entity_id': 'T152', 'entity_type': 'Strength', 'start_span': 8880, 'end_span': 8887, 'name_or_dosage': '0.083 %'}, {'entity_id': 'T153', 'entity_type': 'Form', 'start_span': 8888, 'end_span': 8896, 'name_or_dosage': 'solution'}, {'entity_id': 'T155', 'entity_type': 'Route', 'start_span': 8914, 'end_span': 8924, 'name_or_dosage': 'inhalation'}, {'entity_id': 'T156', 'entity_type': 'Frequency', 'start_span': 8925, 'end_span': 8950, 'name_or_dosage': 'every 4-6 hours as needed'}, {'entity_id': 'T157', 'entity_type': 'Strength', 'start_span': 9250, 'end_span': 9258, 'name_or_dosage': '5-325 mg'}, {'entity_id': 'T160', 'entity_type': 'Form', 'start_span': 9359, 'end_span': 9365, 'name_or_dosage': 'tablet'}, {'entity_id': 'T161', 'entity_type': 'Reason', 'start_span': 1163, 'end_span': 1182, 'name_or_dosage': 'respiratory fatigue'}, {'entity_id': 'T162', 'entity_type': 'Frequency', 'start_span': 7566, 'end_span': 7581, 'name_or_dosage': '(2 times a day)'}, {'entity_id': 'T163', 'entity_type': 'Reason', 'start_span': 1657, 'end_span': 1674, 'name_or_dosage': 'dyspnea and cough'}, {'entity_id': 'T165', 'entity_type': 'Reason', 'start_span': 5428, 'end_span': 5437, 'name_or_dosage': 'back pain'}, {'entity_id': 'T166', 'entity_type': 'Reason', 'start_span': 554, 'end_span': 573, 'name_or_dosage': 'asthma exacerbation'}, {'entity_id': 'T167', 'entity_type': 'Form', 'start_span': 827, 'end_span': 831, 'name_or_dosage': 'nebs'}, {'entity_id': 'T168', 'entity_type': 'Drug', 'start_span': 968, 'end_span': 972, 'name_or_dosage': 'nebs'}, {'entity_id': 'T169', 'entity_type': 'Reason', 'start_span': 1747, 'end_span': 1763, 'name_or_dosage': 'lumbar back pain'}, {'entity_id': 'T170', 'entity_type': 'Drug', 'start_span': 4202, 'end_span': 4206, 'name_or_dosage': 'nebs'}, {'entity_id': 'T171', 'entity_type': 'Duration', 'start_span': 4244, 'end_span': 4250, 'name_or_dosage': '5 days'}, {'entity_id': 'T172', 'entity_type': 'Reason', 'start_span': 4057, 'end_span': 4060, 'name_or_dosage': 'rsv'}, {'entity_id': 'T173', 'entity_type': 'Drug', 'start_span': 4309, 'end_span': 4313, 'name_or_dosage': 'nebs'}, {'entity_id': 'T174', 'entity_type': 'Frequency', 'start_span': 4333, 'end_span': 4338, 'name_or_dosage': 'q4hrs'}, {'entity_id': 'T175', 'entity_type': 'Drug', 'start_span': 4648, 'end_span': 4655, 'name_or_dosage': 'steroid'}, {'entity_id': 'T176', 'entity_type': 'Dosage', 'start_span': 4627, 'end_span': 4640, 'name_or_dosage': 'titrated down'}, {'entity_id': 'T177', 'entity_type': 'Drug', 'start_span': 4722, 'end_span': 4730, 'name_or_dosage': 'steroids'}, {'entity_id': 'T178', 'entity_type': 'Drug', 'start_span': 4874, 'end_span': 4882, 'name_or_dosage': 'steroids'}, {'entity_id': 'T179', 'entity_type': 'Route', 'start_span': 4869, 'end_span': 4873, 'name_or_dosage': 'oral'}, {'entity_id': 'T180', 'entity_type': 'Dosage', 'start_span': 4923, 'end_span': 4928, 'name_or_dosage': 'taper'}, {'entity_id': 'T181', 'entity_type': 'Drug', 'start_span': 5023, 'end_span': 5029, 'name_or_dosage': 'opioid'}, {'entity_id': 'T182', 'entity_type': 'Drug', 'start_span': 5094, 'end_span': 5101, 'name_or_dosage': 'opioids'}, {'entity_id': 'T183', 'entity_type': 'ADE', 'start_span': 5030, 'end_span': 5040, 'name_or_dosage': 'dependence'}, {'entity_id': 'T184', 'entity_type': 'Drug', 'start_span': 5206, 'end_span': 5215, 'name_or_dosage': 'percocets'}, {'entity_id': 'T185', 'entity_type': 'Drug', 'start_span': 5358, 'end_span': 5367, 'name_or_dosage': 'percocets'}, {'entity_id': 'T186', 'entity_type': 'Dosage', 'start_span': 8414, 'end_span': 8415, 'name_or_dosage': '5'}, {'entity_id': 'T187', 'entity_type': 'Form', 'start_span': 8416, 'end_span': 8420, 'name_or_dosage': 'tabs'}, {'entity_id': 'T188', 'entity_type': 'Frequency', 'start_span': 8421, 'end_span': 8426, 'name_or_dosage': 'daily'}, {'entity_id': 'T189', 'entity_type': 'Duration', 'start_span': 8427, 'end_span': 8437, 'name_or_dosage': 'for 2 days'}, {'entity_id': 'T190', 'entity_type': 'Dosage', 'start_span': 8473, 'end_span': 8474, 'name_or_dosage': '4'}, {'entity_id': 'T191', 'entity_type': 'Form', 'start_span': 8475, 'end_span': 8479, 'name_or_dosage': 'tabs'}, {'entity_id': 'T192', 'entity_type': 'Frequency', 'start_span': 8480, 'end_span': 8485, 'name_or_dosage': 'daily'}, {'entity_id': 'T193', 'entity_type': 'Duration', 'start_span': 8486, 'end_span': 8496, 'name_or_dosage': 'for 2 days'}, {'entity_id': 'T194', 'entity_type': 'Dosage', 'start_span': 8518, 'end_span': 8519, 'name_or_dosage': '3'}, {'entity_id': 'T195', 'entity_type': 'Form', 'start_span': 8520, 'end_span': 8524, 'name_or_dosage': 'tabs'}, {'entity_id': 'T196', 'entity_type': 'Frequency', 'start_span': 8525, 'end_span': 8530, 'name_or_dosage': 'daily'}, {'entity_id': 'T197', 'entity_type': 'Duration', 'start_span': 8531, 'end_span': 8541, 'name_or_dosage': 'for 2 days'}, {'entity_id': 'T198', 'entity_type': 'Dosage', 'start_span': 8571, 'end_span': 8572, 'name_or_dosage': '2'}, {'entity_id': 'T199', 'entity_type': 'Frequency', 'start_span': 8576, 'end_span': 8581, 'name_or_dosage': 'daily'}, {'entity_id': 'T200', 'entity_type': 'Duration', 'start_span': 8582, 'end_span': 8592, 'name_or_dosage': 'for 2 days'}, {'entity_id': 'T201', 'entity_type': 'Dosage', 'start_span': 8628, 'end_span': 8629, 'name_or_dosage': '1'}, {'entity_id': 'T202', 'entity_type': 'Form', 'start_span': 8630, 'end_span': 8633, 'name_or_dosage': 'tab'}, {'entity_id': 'T203', 'entity_type': 'Frequency', 'start_span': 8634, 'end_span': 8639, 'name_or_dosage': 'daily'}, {'entity_id': 'T204', 'entity_type': 'Duration', 'start_span': 8640, 'end_span': 8650, 'name_or_dosage': 'for 2 days'}, {'entity_id': 'T205', 'entity_type': 'Form', 'start_span': 8910, 'end_span': 8913, 'name_or_dosage': 'neb'}, {'entity_id': 'T75', 'entity_type': 'Dosage', 'start_span': 8902, 'end_span': 8909, 'name_or_dosage': 'one (1)'}]\n"
     ]
    }
   ],
   "source": [
    "print((df[\"anns\"].iloc[0]))"
   ]
  },
  {
   "cell_type": "code",
   "execution_count": 130,
   "metadata": {},
   "outputs": [
    {
     "name": "stdout",
     "output_type": "stream",
     "text": [
      "10 mg\n"
     ]
    }
   ],
   "source": [
    "print(df[\"text\"].iloc[0][8213:8218])"
   ]
  },
  {
   "cell_type": "code",
   "execution_count": 145,
   "metadata": {},
   "outputs": [],
   "source": [
    "from sklearn.model_selection import train_test_split\n",
    "\n",
    "train, temp = train_test_split(df, test_size=0.21, random_state=42)\n",
    "val, test = train_test_split(temp, test_size=0.50, random_state=42)"
   ]
  },
  {
   "cell_type": "code",
   "execution_count": 146,
   "metadata": {},
   "outputs": [
    {
     "name": "stdout",
     "output_type": "stream",
     "text": [
      "len train : 239\n",
      "len val : 32\n",
      "len test : 32\n",
      "train ratio = 0.7887788778877888\n",
      "val ratio = 0.10561056105610561\n",
      "test ratio = 0.10561056105610561\n"
     ]
    }
   ],
   "source": [
    "print(f\"len train : {len(train)}\")\n",
    "print(f\"len val : {len(val)}\")\n",
    "print(f\"len test : {len(test)}\")\n",
    "print(f\"train ratio = {len(train)/(len(train) + len(test) + len(val))}\")\n",
    "print(f\"val ratio = {len(val)/(len(train) + len(test) + len(val))}\")\n",
    "print(f\"test ratio = {len(test)/(len(train) + len(test) + len(val))}\")"
   ]
  },
  {
   "cell_type": "code",
   "execution_count": 147,
   "metadata": {},
   "outputs": [
    {
     "name": "stdout",
     "output_type": "stream",
     "text": [
      "Datasets saved\n"
     ]
    }
   ],
   "source": [
    "train.to_csv(\"Dataset/preprocessed/part2/train.csv\", index=False)\n",
    "val.to_csv(\"Dataset/preprocessed/part2/val.csv\", index=False)\n",
    "test.to_csv(\"Dataset/preprocessed/part2/test.csv\", index=False)\n",
    "\n",
    "\n",
    "train_json = \"Dataset/preprocessed/part2/train.json\"\n",
    "val_json = \"Dataset/preprocessed/part2/val.json\"\n",
    "test_json = \"Dataset/preprocessed/part2/test.json\"\n",
    "\n",
    "with open(train_json, 'w') as f:\n",
    "    json.dump(train.to_dict(orient='records'), f, indent=4)\n",
    "\n",
    "with open(val_json, 'w') as f:\n",
    "    json.dump(val.to_dict(orient='records'), f, indent=4)\n",
    "\n",
    "with open(test_json, 'w') as f:\n",
    "    json.dump(test.to_dict(orient='records'), f, indent=4)\n",
    "\n",
    "print(\"Datasets saved\")\n"
   ]
  }
 ],
 "metadata": {
  "kernelspec": {
   "display_name": "venv",
   "language": "python",
   "name": "python3"
  },
  "language_info": {
   "codemirror_mode": {
    "name": "ipython",
    "version": 3
   },
   "file_extension": ".py",
   "mimetype": "text/x-python",
   "name": "python",
   "nbconvert_exporter": "python",
   "pygments_lexer": "ipython3",
   "version": "3.10.14"
  }
 },
 "nbformat": 4,
 "nbformat_minor": 2
}
